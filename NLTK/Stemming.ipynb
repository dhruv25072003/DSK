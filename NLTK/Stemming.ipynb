{
 "cells": [
  {
   "cell_type": "markdown",
   "id": "cbd58de3-8ef2-4600-9d48-920375b5cf2b",
   "metadata": {},
   "source": [
    "# Stemming"
   ]
  },
  {
   "cell_type": "code",
   "execution_count": 29,
   "id": "1e1800d1-96d7-4bf2-b9f4-b62689bbf5f8",
   "metadata": {},
   "outputs": [],
   "source": [
    "#Classification problem\n",
    "## Comments if product has a positive or a negative review\n",
    "## Reviews ---> [eating,eat,eaten]---> eat"
   ]
  },
  {
   "cell_type": "code",
   "execution_count": 30,
   "id": "9497242e-e7ef-48dc-b6b5-0c108bd9d9e1",
   "metadata": {},
   "outputs": [],
   "source": [
    "words=[\"eating\",\"eats\",\"eaten\",\"writing\",\"writes\",\"programming\",\"programs\",\"history\",\"finally\",\"finalize\"]"
   ]
  },
  {
   "cell_type": "markdown",
   "id": "7eb8a4f1-f925-48db-80e2-3e8fffd53896",
   "metadata": {},
   "source": [
    "### PorterStemmer"
   ]
  },
  {
   "cell_type": "code",
   "execution_count": 31,
   "id": "d312ec61-f497-4226-aa6b-0d272dd898f7",
   "metadata": {},
   "outputs": [
    {
     "name": "stdout",
     "output_type": "stream",
     "text": [
      "eating---->eat\n",
      "eats---->eat\n",
      "eaten---->eaten\n",
      "writing---->write\n",
      "writes---->write\n",
      "programming---->program\n",
      "programs---->program\n",
      "history---->histori\n",
      "finally---->final\n",
      "finalize---->final\n"
     ]
    }
   ],
   "source": [
    "from nltk.stem import PorterStemmer\n",
    "stemming=PorterStemmer()\n",
    "for word in words:\n",
    "    print(word + \"---->\" + stemming.stem(word))"
   ]
  },
  {
   "cell_type": "code",
   "execution_count": 32,
   "id": "3b2db538-6d59-4c4d-ada5-104719ea166c",
   "metadata": {},
   "outputs": [
    {
     "data": {
      "text/plain": [
       "'congratul'"
      ]
     },
     "execution_count": 32,
     "metadata": {},
     "output_type": "execute_result"
    }
   ],
   "source": [
    "stemming.stem(\"congratulations\")"
   ]
  },
  {
   "cell_type": "markdown",
   "id": "951c0d94-ba51-4917-bbb1-8f47213c9d7d",
   "metadata": {},
   "source": [
    "### RegexpStemmer class"
   ]
  },
  {
   "cell_type": "code",
   "execution_count": 33,
   "id": "34068ef1-27da-4c15-82da-e9eb236bd8b4",
   "metadata": {},
   "outputs": [],
   "source": [
    "from nltk.stem import RegexpStemmer"
   ]
  },
  {
   "cell_type": "code",
   "execution_count": 34,
   "id": "879fef4d-7311-4338-9910-aba9c2ee1432",
   "metadata": {},
   "outputs": [
    {
     "name": "stdout",
     "output_type": "stream",
     "text": [
      "eating--->eat\n",
      "eats--->eat\n",
      "eaten--->eaten\n",
      "writing--->writ\n",
      "writes--->write\n",
      "programming--->programm\n",
      "programs--->program\n",
      "history--->history\n",
      "finally--->finally\n",
      "finalize--->finaliz\n"
     ]
    }
   ],
   "source": [
    "reg_stemmer=RegexpStemmer('ing$|s$|able$|e$',min=4)\n",
    "for word in words:\n",
    "    print(word+'--->'+reg_stemmer.stem(word))"
   ]
  },
  {
   "cell_type": "markdown",
   "id": "f9f597b3-3308-4e86-98fc-248bfac24eca",
   "metadata": {},
   "source": [
    "### SnowballStemmer Class"
   ]
  },
  {
   "cell_type": "code",
   "execution_count": 35,
   "id": "30e6d7c3-4c52-4b11-a9bb-e13802db939e",
   "metadata": {},
   "outputs": [
    {
     "name": "stdout",
     "output_type": "stream",
     "text": [
      "eating--->eat\n",
      "eats--->eat\n",
      "eaten--->eaten\n",
      "writing--->write\n",
      "writes--->write\n",
      "programming--->program\n",
      "programs--->program\n",
      "history--->histori\n",
      "finally--->final\n",
      "finalize--->final\n"
     ]
    }
   ],
   "source": [
    "from nltk.stem import SnowballStemmer\n",
    "sb=SnowballStemmer('english')\n",
    "for word in words:\n",
    "    print(word+\"--->\"+sb.stem(word))"
   ]
  },
  {
   "cell_type": "code",
   "execution_count": 36,
   "id": "7193d986-1f63-4e08-b1be-cf2e5c010ae3",
   "metadata": {},
   "outputs": [
    {
     "data": {
      "text/plain": [
       "('fairli', 'sportingli')"
      ]
     },
     "execution_count": 36,
     "metadata": {},
     "output_type": "execute_result"
    }
   ],
   "source": [
    "stemming.stem('fairly'),stemming.stem('sportingly')"
   ]
  },
  {
   "cell_type": "code",
   "execution_count": 37,
   "id": "d35dcdb8-c85b-4b4d-b3ad-d403f7e9c896",
   "metadata": {},
   "outputs": [
    {
     "data": {
      "text/plain": [
       "('fair', 'sport')"
      ]
     },
     "execution_count": 37,
     "metadata": {},
     "output_type": "execute_result"
    }
   ],
   "source": [
    "sb.stem('fairly'),sb.stem('sportingly')"
   ]
  },
  {
   "cell_type": "code",
   "execution_count": 38,
   "id": "b515cf93-ad15-4e0d-8bbd-b50badef325a",
   "metadata": {},
   "outputs": [
    {
     "data": {
      "text/plain": [
       "('goe', 'goe')"
      ]
     },
     "execution_count": 38,
     "metadata": {},
     "output_type": "execute_result"
    }
   ],
   "source": [
    "sb.stem('goes'),stemming.stem('goes')"
   ]
  },
  {
   "cell_type": "code",
   "execution_count": null,
   "id": "4f0e171e-8906-4082-b6d6-836fb5f2f627",
   "metadata": {},
   "outputs": [],
   "source": []
  }
 ],
 "metadata": {
  "kernelspec": {
   "display_name": "Python 3 (ipykernel)",
   "language": "python",
   "name": "python3"
  },
  "language_info": {
   "codemirror_mode": {
    "name": "ipython",
    "version": 3
   },
   "file_extension": ".py",
   "mimetype": "text/x-python",
   "name": "python",
   "nbconvert_exporter": "python",
   "pygments_lexer": "ipython3",
   "version": "3.12.8"
  }
 },
 "nbformat": 4,
 "nbformat_minor": 5
}
