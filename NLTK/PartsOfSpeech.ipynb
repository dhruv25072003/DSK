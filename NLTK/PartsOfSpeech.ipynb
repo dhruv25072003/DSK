{
 "cells": [
  {
   "cell_type": "code",
   "execution_count": null,
   "id": "61bbcccd-9e6d-4492-ba23-70bd4d34980e",
   "metadata": {},
   "outputs": [],
   "source": []
  }
 ],
 "metadata": {
  "kernelspec": {
   "display_name": "",
   "name": ""
  },
  "language_info": {
   "name": ""
  }
 },
 "nbformat": 4,
 "nbformat_minor": 5
}
